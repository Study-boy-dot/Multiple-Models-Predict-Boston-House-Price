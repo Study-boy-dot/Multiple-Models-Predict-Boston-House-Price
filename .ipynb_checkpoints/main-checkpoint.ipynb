{
 "cells": [
  {
   "cell_type": "markdown",
   "id": "effective-sugar",
   "metadata": {},
   "source": [
    "# Boston House Prices Prediction\n",
    "- Kaggle 連結: https://www.kaggle.com/vikrishnan/boston-house-prices\n",
    "    - 供參考用，本次作業使用 scikit-learn 內裝的 dataset"
   ]
  },
  {
   "cell_type": "markdown",
   "id": "supported-omaha",
   "metadata": {},
   "source": [
    "# 作業3"
   ]
  },
  {
   "cell_type": "markdown",
   "id": "objective-motor",
   "metadata": {},
   "source": [
    "## 環境\n",
    "\n",
    "請填寫當前執行使用的環境。\n",
    "\n",
    "|環境|名稱|版本|\n",
    "|-|-|-|\n",
    "|作業系統|Windows|Window 10|\n",
    "|程式執行環境|jupyter notebook|6.4.6|\n",
    "|python 版本|python3|3.8.8|\n",
    "|安裝環境|pip|21.0.1|\n",
    "|安裝環境|conda|4.11.0|\n",
    "\n",
    "|環境|名稱|版本/數量|\n",
    "|-|-|-|\n",
    "|計算資源|CPU|6|\n",
    "|計算資源|GPU|Intel(R) UHD Graphics 630|\n",
    "\n",
    "執行時間： 436.3587760925293"
   ]
  },
  {
   "cell_type": "markdown",
   "id": "inappropriate-stock",
   "metadata": {},
   "source": [
    "## 安裝\n",
    "\n",
    "請填寫安裝套件需要的指令\n",
    "\n",
    "```sh\n",
    "pip install -r requirements.txt\n",
    "```"
   ]
  },
  {
   "cell_type": "code",
   "execution_count": 1,
   "id": "unsigned-berlin",
   "metadata": {},
   "outputs": [],
   "source": [
    "# 請勿更動此區塊程式碼\n",
    "\n",
    "import time\n",
    "\n",
    "EXECUTION_START_TIME = time.time() # 計算執行時間"
   ]
  },
  {
   "cell_type": "code",
   "execution_count": 2,
   "id": "sufficient-advocacy",
   "metadata": {},
   "outputs": [],
   "source": [
    "# 載入必要套件\n",
    "\n",
    "from sklearn.datasets import load_boston\n",
    "from sklearn.metrics import mean_squared_error as MSE\n",
    "import numpy as np\n",
    "import pandas as pd"
   ]
  },
  {
   "cell_type": "markdown",
   "id": "labeled-apparel",
   "metadata": {},
   "source": [
    "## 固定亂數"
   ]
  },
  {
   "cell_type": "code",
   "execution_count": 34,
   "id": "coastal-amendment",
   "metadata": {},
   "outputs": [],
   "source": [
    "# random\n",
    "import random\n",
    "random.seed(1)"
   ]
  },
  {
   "cell_type": "markdown",
   "id": "brief-education",
   "metadata": {},
   "source": [
    "## 載入資料"
   ]
  },
  {
   "cell_type": "code",
   "execution_count": 3,
   "id": "excessive-contents",
   "metadata": {},
   "outputs": [
    {
     "name": "stdout",
     "output_type": "stream",
     "text": [
      "<class 'sklearn.utils.Bunch'>\n"
     ]
    }
   ],
   "source": [
    "# 使用 scikit-learn 的資料\n",
    "\n",
    "dataset = load_boston()\n",
    "print(type(dataset))"
   ]
  },
  {
   "cell_type": "code",
   "execution_count": 4,
   "id": "solar-factory",
   "metadata": {},
   "outputs": [
    {
     "data": {
      "text/plain": [
       "dict_keys(['data', 'target', 'feature_names', 'DESCR', 'filename'])"
      ]
     },
     "execution_count": 4,
     "metadata": {},
     "output_type": "execute_result"
    }
   ],
   "source": [
    "# 觀察資料的 key 值有哪些\n",
    "\n",
    "dataset.keys()"
   ]
  },
  {
   "cell_type": "markdown",
   "id": "dimensional-plane",
   "metadata": {},
   "source": [
    "## 觀察數據的shape\n",
    "\n",
    "每一筆data以 nested list 的方式存， 所以每一個feature對應的是內層list的13筆data\n",
    "\n",
    "總共有506筆data"
   ]
  },
  {
   "cell_type": "code",
   "execution_count": 5,
   "id": "dangerous-glossary",
   "metadata": {},
   "outputs": [
    {
     "name": "stdout",
     "output_type": "stream",
     "text": [
      "(506, 13)\n",
      "(506,)\n",
      "(13,)\n"
     ]
    }
   ],
   "source": [
    "print(dataset.data.shape)\n",
    "print(dataset.target.shape)\n",
    "print(dataset.feature_names.shape)"
   ]
  },
  {
   "cell_type": "markdown",
   "id": "floating-preliminary",
   "metadata": {},
   "source": [
    "## 資料前處理\n",
    "### TODO #1: \n",
    "- 請將資料以 Pandas 整理成 DataFrame 的型式\n",
    "- 欄位名稱為 feature_names"
   ]
  },
  {
   "cell_type": "code",
   "execution_count": 6,
   "id": "constitutional-accommodation",
   "metadata": {},
   "outputs": [],
   "source": [
    "df = pd.DataFrame(data=dataset.data, columns=dataset.feature_names\n",
    "    # Please put something here.\n",
    "    \n",
    ")"
   ]
  },
  {
   "cell_type": "code",
   "execution_count": 7,
   "id": "stuck-thinking",
   "metadata": {},
   "outputs": [
    {
     "name": "stdout",
     "output_type": "stream",
     "text": [
      "Number of features:  13\n"
     ]
    }
   ],
   "source": [
    "print(\"Number of features: \", len(dataset.feature_names))"
   ]
  },
  {
   "cell_type": "markdown",
   "id": "stopped-geometry",
   "metadata": {},
   "source": [
    "## 新建Column\n",
    "\n",
    "新建一個column 叫做 MEDV， 數據是506筆資料的 dataset.target"
   ]
  },
  {
   "cell_type": "code",
   "execution_count": 8,
   "id": "satisfactory-disease",
   "metadata": {},
   "outputs": [],
   "source": [
    "df['MEDV'] = dataset.target"
   ]
  },
  {
   "cell_type": "code",
   "execution_count": 9,
   "id": "irish-terrorism",
   "metadata": {},
   "outputs": [
    {
     "data": {
      "text/html": [
       "<div>\n",
       "<style scoped>\n",
       "    .dataframe tbody tr th:only-of-type {\n",
       "        vertical-align: middle;\n",
       "    }\n",
       "\n",
       "    .dataframe tbody tr th {\n",
       "        vertical-align: top;\n",
       "    }\n",
       "\n",
       "    .dataframe thead th {\n",
       "        text-align: right;\n",
       "    }\n",
       "</style>\n",
       "<table border=\"1\" class=\"dataframe\">\n",
       "  <thead>\n",
       "    <tr style=\"text-align: right;\">\n",
       "      <th></th>\n",
       "      <th>CRIM</th>\n",
       "      <th>ZN</th>\n",
       "      <th>INDUS</th>\n",
       "      <th>CHAS</th>\n",
       "      <th>NOX</th>\n",
       "      <th>RM</th>\n",
       "      <th>AGE</th>\n",
       "      <th>DIS</th>\n",
       "      <th>RAD</th>\n",
       "      <th>TAX</th>\n",
       "      <th>PTRATIO</th>\n",
       "      <th>B</th>\n",
       "      <th>LSTAT</th>\n",
       "      <th>MEDV</th>\n",
       "    </tr>\n",
       "  </thead>\n",
       "  <tbody>\n",
       "    <tr>\n",
       "      <th>0</th>\n",
       "      <td>0.00632</td>\n",
       "      <td>18.0</td>\n",
       "      <td>2.31</td>\n",
       "      <td>0.0</td>\n",
       "      <td>0.538</td>\n",
       "      <td>6.575</td>\n",
       "      <td>65.2</td>\n",
       "      <td>4.0900</td>\n",
       "      <td>1.0</td>\n",
       "      <td>296.0</td>\n",
       "      <td>15.3</td>\n",
       "      <td>396.90</td>\n",
       "      <td>4.98</td>\n",
       "      <td>24.0</td>\n",
       "    </tr>\n",
       "    <tr>\n",
       "      <th>1</th>\n",
       "      <td>0.02731</td>\n",
       "      <td>0.0</td>\n",
       "      <td>7.07</td>\n",
       "      <td>0.0</td>\n",
       "      <td>0.469</td>\n",
       "      <td>6.421</td>\n",
       "      <td>78.9</td>\n",
       "      <td>4.9671</td>\n",
       "      <td>2.0</td>\n",
       "      <td>242.0</td>\n",
       "      <td>17.8</td>\n",
       "      <td>396.90</td>\n",
       "      <td>9.14</td>\n",
       "      <td>21.6</td>\n",
       "    </tr>\n",
       "    <tr>\n",
       "      <th>2</th>\n",
       "      <td>0.02729</td>\n",
       "      <td>0.0</td>\n",
       "      <td>7.07</td>\n",
       "      <td>0.0</td>\n",
       "      <td>0.469</td>\n",
       "      <td>7.185</td>\n",
       "      <td>61.1</td>\n",
       "      <td>4.9671</td>\n",
       "      <td>2.0</td>\n",
       "      <td>242.0</td>\n",
       "      <td>17.8</td>\n",
       "      <td>392.83</td>\n",
       "      <td>4.03</td>\n",
       "      <td>34.7</td>\n",
       "    </tr>\n",
       "    <tr>\n",
       "      <th>3</th>\n",
       "      <td>0.03237</td>\n",
       "      <td>0.0</td>\n",
       "      <td>2.18</td>\n",
       "      <td>0.0</td>\n",
       "      <td>0.458</td>\n",
       "      <td>6.998</td>\n",
       "      <td>45.8</td>\n",
       "      <td>6.0622</td>\n",
       "      <td>3.0</td>\n",
       "      <td>222.0</td>\n",
       "      <td>18.7</td>\n",
       "      <td>394.63</td>\n",
       "      <td>2.94</td>\n",
       "      <td>33.4</td>\n",
       "    </tr>\n",
       "    <tr>\n",
       "      <th>4</th>\n",
       "      <td>0.06905</td>\n",
       "      <td>0.0</td>\n",
       "      <td>2.18</td>\n",
       "      <td>0.0</td>\n",
       "      <td>0.458</td>\n",
       "      <td>7.147</td>\n",
       "      <td>54.2</td>\n",
       "      <td>6.0622</td>\n",
       "      <td>3.0</td>\n",
       "      <td>222.0</td>\n",
       "      <td>18.7</td>\n",
       "      <td>396.90</td>\n",
       "      <td>5.33</td>\n",
       "      <td>36.2</td>\n",
       "    </tr>\n",
       "  </tbody>\n",
       "</table>\n",
       "</div>"
      ],
      "text/plain": [
       "      CRIM    ZN  INDUS  CHAS    NOX     RM   AGE     DIS  RAD    TAX  \\\n",
       "0  0.00632  18.0   2.31   0.0  0.538  6.575  65.2  4.0900  1.0  296.0   \n",
       "1  0.02731   0.0   7.07   0.0  0.469  6.421  78.9  4.9671  2.0  242.0   \n",
       "2  0.02729   0.0   7.07   0.0  0.469  7.185  61.1  4.9671  2.0  242.0   \n",
       "3  0.03237   0.0   2.18   0.0  0.458  6.998  45.8  6.0622  3.0  222.0   \n",
       "4  0.06905   0.0   2.18   0.0  0.458  7.147  54.2  6.0622  3.0  222.0   \n",
       "\n",
       "   PTRATIO       B  LSTAT  MEDV  \n",
       "0     15.3  396.90   4.98  24.0  \n",
       "1     17.8  396.90   9.14  21.6  \n",
       "2     17.8  392.83   4.03  34.7  \n",
       "3     18.7  394.63   2.94  33.4  \n",
       "4     18.7  396.90   5.33  36.2  "
      ]
     },
     "execution_count": 9,
     "metadata": {},
     "output_type": "execute_result"
    }
   ],
   "source": [
    "df.head()"
   ]
  },
  {
   "cell_type": "markdown",
   "id": "limited-arctic",
   "metadata": {},
   "source": [
    "### TODO #2: 請進行統計各個 feature 的缺失值數目"
   ]
  },
  {
   "cell_type": "markdown",
   "id": "american-panic",
   "metadata": {},
   "source": [
    "## 填補缺失值\n",
    "\n",
    "發現到沒有缺失值 Nan"
   ]
  },
  {
   "cell_type": "code",
   "execution_count": 10,
   "id": "bigger-alfred",
   "metadata": {},
   "outputs": [
    {
     "name": "stdout",
     "output_type": "stream",
     "text": [
      "CRIM       0\n",
      "ZN         0\n",
      "INDUS      0\n",
      "CHAS       0\n",
      "NOX        0\n",
      "RM         0\n",
      "AGE        0\n",
      "DIS        0\n",
      "RAD        0\n",
      "TAX        0\n",
      "PTRATIO    0\n",
      "B          0\n",
      "LSTAT      0\n",
      "MEDV       0\n",
      "dtype: int64\n",
      "0      0.0\n",
      "1      0.0\n",
      "2      0.0\n",
      "3      0.0\n",
      "4      0.0\n",
      "      ... \n",
      "501    0.0\n",
      "502    0.0\n",
      "503    0.0\n",
      "504    0.0\n",
      "505    0.0\n",
      "Name: CHAS, Length: 506, dtype: float64\n"
     ]
    }
   ],
   "source": [
    "# Please use some functions of Pandas here.\n",
    "# Nan 的data量是 0\n",
    "print(df.isnull().sum())\n",
    "\n",
    "# Column CHAS 的 data 就是0.0\n",
    "print(df.CHAS)"
   ]
  },
  {
   "cell_type": "code",
   "execution_count": 11,
   "id": "representative-trade",
   "metadata": {},
   "outputs": [],
   "source": [
    "import seaborn as sns\n",
    "import matplotlib.pyplot as plt"
   ]
  },
  {
   "cell_type": "markdown",
   "id": "devoted-professor",
   "metadata": {},
   "source": [
    "## 觀察資料的特性"
   ]
  },
  {
   "cell_type": "markdown",
   "id": "promotional-banner",
   "metadata": {},
   "source": [
    "### TODO #3: 利用 Seaborn 畫箱型圖，並進行說明\n",
    "- 觀察每一個 features 的數值分佈\n",
    "- 可以用來決定是否要對資料的數值進行標準化"
   ]
  },
  {
   "cell_type": "markdown",
   "id": "shaped-bosnia",
   "metadata": {},
   "source": [
    "## 書箱型圖\n",
    "\n",
    "通過書箱型圖看起來比較正常的數據 features —— [AGE, RAD, TAX]\n",
    "\n",
    "這三個features的離群值比較少且四分位數比較分散。"
   ]
  },
  {
   "cell_type": "code",
   "execution_count": 12,
   "id": "secret-oxford",
   "metadata": {},
   "outputs": [
    {
     "data": {
      "text/plain": [
       "<AxesSubplot:>"
      ]
     },
     "execution_count": 12,
     "metadata": {},
     "output_type": "execute_result"
    },
    {
     "data": {
      "image/png": "[encoded data removed]",
      "text/plain": [
       "<Figure size 1152x648 with 1 Axes>"
      ]
     },
     "metadata": {
      "needs_background": "light"
     },
     "output_type": "display_data"
    }
   ],
   "source": [
    "plt.figure(figsize=(16, 9))\n",
    "# Plot a boxplot with Seaborn\n",
    "# 用 seaborn 的自定義function 畫出各features的書箱型圖\n",
    "sns.boxplot(data=df)"
   ]
  },
  {
   "cell_type": "markdown",
   "id": "outdoor-symposium",
   "metadata": {},
   "source": [
    "### TODO #4: 利用 Seaborn 進行 Heatmap 作圖，並進行說明\n",
    "- 觀察每一個特徵與房價 (MEDV) 的關聯程度\n",
    "- 使用 dr.corr() 來計算 feature 和 feature 之間的關係係數\n",
    "- 數值愈高表示愈正相關，數值愈低表示愈負相關"
   ]
  },
  {
   "cell_type": "markdown",
   "id": "shaped-sperm",
   "metadata": {},
   "source": [
    "## Heatmap\n",
    "\n",
    "corr() function 直接計算各features之間的關係值\n",
    "但是透過看數值比較無法直接觀察各features的關係，所以透過heatmap的方法去觀察比較方便\n",
    "\n",
    "sns.heatmap() 利用這個function 可以用顏色直接看出個數值的大小程度\n",
    "\n",
    "顏色越接近白色代表數據這兩個features越正相關，反之越黑代表越負相關\n",
    "\n",
    "從圖可以看出 feature RAD 和 TAX 兩個正相關大\n",
    "\n",
    "最後一row代表所有features和房價(MEDV) 的相關性"
   ]
  },
  {
   "cell_type": "code",
   "execution_count": 13,
   "id": "honey-adobe",
   "metadata": {},
   "outputs": [
    {
     "name": "stdout",
     "output_type": "stream",
     "text": [
      "             CRIM        ZN     INDUS      CHAS       NOX        RM       AGE  \\\n",
      "CRIM     1.000000 -0.200469  0.406583 -0.055892  0.420972 -0.219247  0.352734   \n",
      "ZN      -0.200469  1.000000 -0.533828 -0.042697 -0.516604  0.311991 -0.569537   \n",
      "INDUS    0.406583 -0.533828  1.000000  0.062938  0.763651 -0.391676  0.644779   \n",
      "CHAS    -0.055892 -0.042697  0.062938  1.000000  0.091203  0.091251  0.086518   \n",
      "NOX      0.420972 -0.516604  0.763651  0.091203  1.000000 -0.302188  0.731470   \n",
      "RM      -0.219247  0.311991 -0.391676  0.091251 -0.302188  1.000000 -0.240265   \n",
      "AGE      0.352734 -0.569537  0.644779  0.086518  0.731470 -0.240265  1.000000   \n",
      "DIS     -0.379670  0.664408 -0.708027 -0.099176 -0.769230  0.205246 -0.747881   \n",
      "RAD      0.625505 -0.311948  0.595129 -0.007368  0.611441 -0.209847  0.456022   \n",
      "TAX      0.582764 -0.314563  0.720760 -0.035587  0.668023 -0.292048  0.506456   \n",
      "PTRATIO  0.289946 -0.391679  0.383248 -0.121515  0.188933 -0.355501  0.261515   \n",
      "B       -0.385064  0.175520 -0.356977  0.048788 -0.380051  0.128069 -0.273534   \n",
      "LSTAT    0.455621 -0.412995  0.603800 -0.053929  0.590879 -0.613808  0.602339   \n",
      "MEDV    -0.388305  0.360445 -0.483725  0.175260 -0.427321  0.695360 -0.376955   \n",
      "\n",
      "              DIS       RAD       TAX   PTRATIO         B     LSTAT      MEDV  \n",
      "CRIM    -0.379670  0.625505  0.582764  0.289946 -0.385064  0.455621 -0.388305  \n",
      "ZN       0.664408 -0.311948 -0.314563 -0.391679  0.175520 -0.412995  0.360445  \n",
      "INDUS   -0.708027  0.595129  0.720760  0.383248 -0.356977  0.603800 -0.483725  \n",
      "CHAS    -0.099176 -0.007368 -0.035587 -0.121515  0.048788 -0.053929  0.175260  \n",
      "NOX     -0.769230  0.611441  0.668023  0.188933 -0.380051  0.590879 -0.427321  \n",
      "RM       0.205246 -0.209847 -0.292048 -0.355501  0.128069 -0.613808  0.695360  \n",
      "AGE     -0.747881  0.456022  0.506456  0.261515 -0.273534  0.602339 -0.376955  \n",
      "DIS      1.000000 -0.494588 -0.534432 -0.232471  0.291512 -0.496996  0.249929  \n",
      "RAD     -0.494588  1.000000  0.910228  0.464741 -0.444413  0.488676 -0.381626  \n",
      "TAX     -0.534432  0.910228  1.000000  0.460853 -0.441808  0.543993 -0.468536  \n",
      "PTRATIO -0.232471  0.464741  0.460853  1.000000 -0.177383  0.374044 -0.507787  \n",
      "B        0.291512 -0.444413 -0.441808 -0.177383  1.000000 -0.366087  0.333461  \n",
      "LSTAT   -0.496996  0.488676  0.543993  0.374044 -0.366087  1.000000 -0.737663  \n",
      "MEDV     0.249929 -0.381626 -0.468536 -0.507787  0.333461 -0.737663  1.000000  \n"
     ]
    },
    {
     "data": {
      "text/plain": [
       "<AxesSubplot:>"
      ]
     },
     "execution_count": 13,
     "metadata": {},
     "output_type": "execute_result"
    },
    {
     "data": {
      "image/png": "[encoded data removed]",
      "text/plain": [
       "<Figure size 1152x648 with 2 Axes>"
      ]
     },
     "metadata": {
      "needs_background": "light"
     },
     "output_type": "display_data"
    }
   ],
   "source": [
    "plt.figure(figsize=(16, 9))\n",
    "# Please use a function of Pandas here.\n",
    "print(df.corr())\n",
    "# Plot a heatmap with Seaborn\n",
    "sns.heatmap(df.corr(), annot=True)"
   ]
  },
  {
   "cell_type": "markdown",
   "id": "apparent-swedish",
   "metadata": {},
   "source": [
    "### TODO #5: 挑選特徵，並進行說明\n",
    "- 觀察 heatmap 中具有\"顯著\"正相關或是\"顯著\"負相關的特徵\n",
    "- 把這些特徵進行 concatenation，得到新的 dataframe"
   ]
  },
  {
   "cell_type": "code",
   "execution_count": 14,
   "id": "loaded-belize",
   "metadata": {},
   "outputs": [],
   "source": [
    "X = pd.DataFrame(np.c_[df.RM, df.LSTAT], # Please put features inside the bracket\n",
    "                 columns = [\"RM\", \"LSTAT\"] # Please put feature names here \n",
    "                )"
   ]
  },
  {
   "cell_type": "markdown",
   "id": "objective-stretch",
   "metadata": {},
   "source": [
    "### TODO #6: 呈現特徵分佈，並進行說明\n",
    "- 把你選取到的\"重要特徵\"進行subplots，畫出散佈圖 (scatter plots)\n",
    "- 每一張圖的X軸是你選到的特徵、Y軸是房價('MEDV')"
   ]
  },
  {
   "cell_type": "markdown",
   "id": "infrared-teaching",
   "metadata": {},
   "source": [
    "## Scatter plots\n",
    "\n",
    "從圖可以看出有顯著正相關的feature 的scatter plot圖會隨著x軸增大而y軸增大， 斜率呈現正的關係\n",
    "相反的負相關的圖會隨著x軸增大而減少，斜率呈現負的關係\n",
    "\n",
    "而無顯著關係的圖就無法觀察到這兩點"
   ]
  },
  {
   "cell_type": "code",
   "execution_count": 15,
   "id": "specific-quantum",
   "metadata": {},
   "outputs": [
    {
     "data": {
      "text/plain": [
       "<matplotlib.collections.PathCollection at 0x24124196ee0>"
      ]
     },
     "execution_count": 15,
     "metadata": {},
     "output_type": "execute_result"
    },
    {
     "data": {
      "image/png": "[encoded data removed]",
      "text/plain": [
       "<Figure size 432x288 with 2 Axes>"
      ]
     },
     "metadata": {
      "needs_background": "light"
     },
     "output_type": "display_data"
    }
   ],
   "source": [
    "# Please plot subplots here\n",
    "Y = df.MEDV\n",
    "\n",
    "fig, ax = plt.subplots(1, 2)\n",
    "plt.title(\"Correlation of features and MEDV\")\n",
    "ax[0].scatter(X.RM, Y, c='blue')\n",
    "ax[1].scatter(X.LSTAT, Y, c='green')\n"
   ]
  },
  {
   "cell_type": "markdown",
   "id": "alleged-ontario",
   "metadata": {},
   "source": [
    "## 訓練模型前的準備\n",
    "### TODO #7: 切分資料\n",
    "- 利用 train_test_split，將資料切成 train set 和 test set\n",
    "- 設定 train set 的比例為全部資料的 80%\n",
    "- 請記得設定 random_state 以控制隨機過程"
   ]
  },
  {
   "cell_type": "code",
   "execution_count": 16,
   "id": "renewable-bankruptcy",
   "metadata": {},
   "outputs": [
    {
     "name": "stdout",
     "output_type": "stream",
     "text": [
      "(404, 2)\n",
      "(102, 2)\n",
      "(404,)\n",
      "(102,)\n"
     ]
    }
   ],
   "source": [
    "from sklearn.model_selection import train_test_split\n",
    "\n",
    "# split data train:80% test:20%\n",
    "X_train, X_test, Y_train, Y_test = train_test_split(X, Y, test_size=0.2, random_state=1)\n",
    "\n",
    "print(X_train.shape) #(404, 2)\n",
    "print(X_test.shape) #(102, 2)\n",
    "print(Y_train.shape) #(404, )\n",
    "print(Y_test.shape) #(102, )"
   ]
  },
  {
   "cell_type": "markdown",
   "id": "expanded-longer",
   "metadata": {},
   "source": [
    "## 訓練模型並進行評估"
   ]
  },
  {
   "cell_type": "markdown",
   "id": "seasonal-honor",
   "metadata": {},
   "source": [
    "### TODO #8: 訓練 Linear Regression 模型，並說明訓練結果\n",
    "- 利用 scikit-learn，將資料 fit 在 LinearRegression\n",
    "- 將結果繪製成散佈圖 (scatter plot)，其中 X軸 為 Y_pred、Y軸為 Y_true"
   ]
  },
  {
   "cell_type": "markdown",
   "id": "satellite-breast",
   "metadata": {},
   "source": [
    "### Linear Regression Result\n",
    "Accuracy : 0.79"
   ]
  },
  {
   "cell_type": "code",
   "execution_count": 17,
   "id": "vital-classics",
   "metadata": {},
   "outputs": [
    {
     "name": "stdout",
     "output_type": "stream",
     "text": [
      "Accuracy: 0.6753556251471671\n"
     ]
    }
   ],
   "source": [
    "# Modeling\n",
    "from sklearn.linear_model import LinearRegression\n",
    "from sklearn import metrics\n",
    "\n",
    "LR_model = LinearRegression()\n",
    "LR_model.fit(X_train, Y_train)\n",
    "\n",
    "Y_predict = LR_model.predict(X_test)\n",
    "\n",
    "# Score\n",
    "score = LR_model.score(X_test, Y_test)\n",
    "print('Accuracy:', score)"
   ]
  },
  {
   "cell_type": "markdown",
   "id": "polish-mayor",
   "metadata": {},
   "source": [
    "## Y_predict vs Y_test\n",
    "\n",
    "觀察scatter 圖， 若訓練結果越接近答案則圖應該要呈現斜率為1的斜線， 實際結果是在區間[15, 30] 的斜率比較接近1但是有誤差並不是x軸25，y軸也25，bias大概在5之間"
   ]
  },
  {
   "cell_type": "code",
   "execution_count": 18,
   "id": "sixth-voltage",
   "metadata": {},
   "outputs": [
    {
     "name": "stdout",
     "output_type": "stream",
     "text": [
      "Accuracy: 0.6753556251471671\n",
      "MSE: 32.083756071393964\n",
      "MAE: 4.50521181335465\n"
     ]
    },
    {
     "data": {
      "image/png": "[encoded data removed]",
      "text/plain": [
       "<Figure size 432x288 with 1 Axes>"
      ]
     },
     "metadata": {
      "needs_background": "light"
     },
     "output_type": "display_data"
    }
   ],
   "source": [
    "# plotting the y_test vs y_pred\n",
    "\n",
    "plt.title(\"Y_predict vs Y_test\")\n",
    "plt.xlabel(\"Y_predict\")\n",
    "plt.ylabel(\"Y_test\")\n",
    "plt.scatter(Y_predict, Y_test)\n",
    "\n",
    "# Score\n",
    "print('Accuracy:', score)\n",
    "print('MSE:', metrics.mean_squared_error(Y_test, Y_predict))\n",
    "print('MAE:', metrics.mean_absolute_error(Y_test, Y_predict))"
   ]
  },
  {
   "cell_type": "code",
   "execution_count": 19,
   "id": "third-yield",
   "metadata": {},
   "outputs": [],
   "source": [
    "from sklearn.ensemble import RandomForestRegressor\n",
    "from sklearn.metrics import accuracy_score"
   ]
  },
  {
   "cell_type": "markdown",
   "id": "progressive-perth",
   "metadata": {},
   "source": [
    "### TODO #9: 訓練 Random Forest Regressor 模型\n",
    "- 利用 scikit-learn，將資料 fit 在 RandomForestRegressor 模型\n",
    "- 將結果繪製成散佈圖 (scatter plot)，其中 X軸 為 Y_pred、Y軸為 Y_true"
   ]
  },
  {
   "cell_type": "code",
   "execution_count": 20,
   "id": "homeless-twelve",
   "metadata": {},
   "outputs": [
    {
     "name": "stdout",
     "output_type": "stream",
     "text": [
      "Accuracy: 0.7892905822190731\n"
     ]
    }
   ],
   "source": [
    "# Modeling\n",
    "\n",
    "RF_model = RandomForestRegressor(100,max_depth=8)\n",
    "RF_model.fit(X_train, Y_train)\n",
    "\n",
    "Y_predict = RF_model.predict(X_test)\n",
    "\n",
    "# Score\n",
    "score = RF_model.score(X_test, Y_test)\n",
    "print('Accuracy:', score)\n",
    "# Y_test = RF_model(X_test, sigma=0)\n",
    "\n",
    "# plt.errorbar(X_train, Y_train, 0.3, fmt='o', alpha=0.5)\n",
    "# plt.plot(X_test, Y_predict, '-r');\n",
    "# plt.plot(X_test, Y_test, '-k', alpha=0.5);\n",
    "\n"
   ]
  },
  {
   "cell_type": "markdown",
   "id": "tutorial-mayor",
   "metadata": {},
   "source": [
    "## Y_predict vs Y_test\n",
    "\n",
    "觀察scatter 圖， 若訓練結果越接近答案則圖應該要呈現斜率為1的斜線， 實際結果總體的斜率都比較接近1但是有誤差並不是x軸25，y軸也25，bias大概在10之間"
   ]
  },
  {
   "cell_type": "code",
   "execution_count": 21,
   "id": "temporal-strand",
   "metadata": {},
   "outputs": [
    {
     "name": "stdout",
     "output_type": "stream",
     "text": [
      "Accuracy: 0.7892905822190731\n",
      "MSE: 20.82386169510341\n",
      "MAE: 3.205316741002191\n"
     ]
    },
    {
     "data": {
      "image/png": "[encoded data removed]",
      "text/plain": [
       "<Figure size 432x288 with 1 Axes>"
      ]
     },
     "metadata": {
      "needs_background": "light"
     },
     "output_type": "display_data"
    }
   ],
   "source": [
    "# plotting the y_test vs y_pred\n",
    "\n",
    "plt.title(\"Y_predict vs Y_test\")\n",
    "plt.xlabel(\"Y_predict\")\n",
    "plt.ylabel(\"Y_test\")\n",
    "plt.scatter(Y_predict, Y_test)\n",
    "\n",
    "# Score\n",
    "print('Accuracy:', score)\n",
    "print('MSE:', metrics.mean_squared_error(Y_test, Y_predict))\n",
    "print('MAE:', metrics.mean_absolute_error(Y_test, Y_predict))"
   ]
  },
  {
   "cell_type": "markdown",
   "id": "presidential-scotland",
   "metadata": {},
   "source": [
    "### TODO #10: 參數調整，並進行說明\n",
    "- 請嘗試使用 Grid search 來進行調參\n",
    "    - 可以自己寫 for-loop\n",
    "    - 或是使用 sklearn.model_selection 中的 GridSearchCV 函式"
   ]
  },
  {
   "cell_type": "markdown",
   "id": "excited-merchandise",
   "metadata": {},
   "source": [
    "## GridSearchCV\n",
    "\n",
    "用GridSearchCV function去做調參的功能\n",
    "\n",
    "n_estimators = [100,1000]\n",
    "\n",
    "max_depth = [2,10]"
   ]
  },
  {
   "cell_type": "code",
   "execution_count": 22,
   "id": "scheduled-wellington",
   "metadata": {},
   "outputs": [],
   "source": [
    "from sklearn.model_selection import GridSearchCV"
   ]
  },
  {
   "cell_type": "code",
   "execution_count": 23,
   "id": "apart-thesaurus",
   "metadata": {},
   "outputs": [],
   "source": [
    "param_grid = {'n_estimators': range(100,1001,100), 'max_depth':range(2,11)}\n",
    "grid_search = GridSearchCV(RandomForestRegressor(), param_grid, cv=3)"
   ]
  },
  {
   "cell_type": "code",
   "execution_count": 24,
   "id": "military-amsterdam",
   "metadata": {},
   "outputs": [],
   "source": [
    "# Training\n",
    "grid_search.fit(X_train, Y_train)\n",
    "\n",
    "# Predict\n",
    "Y_predict = grid_search.predict(X_test)"
   ]
  },
  {
   "cell_type": "markdown",
   "id": "married-wings",
   "metadata": {},
   "source": [
    "### 印出最佳參數\n",
    "\n",
    "best params\n",
    "\n",
    "比使用預設值的回歸器準確率有提高，且MSE有下降"
   ]
  },
  {
   "cell_type": "code",
   "execution_count": 25,
   "id": "divided-samuel",
   "metadata": {},
   "outputs": [
    {
     "name": "stdout",
     "output_type": "stream",
     "text": [
      "best params: {'max_depth': 3, 'n_estimators': 100}\n",
      "grid search score: 0.8111348122773999\n",
      "MSE: 18.665053463553193\n",
      "MAE: 3.1539759514825576\n"
     ]
    },
    {
     "data": {
      "text/plain": [
       "<matplotlib.collections.PathCollection at 0x241242cc130>"
      ]
     },
     "execution_count": 25,
     "metadata": {},
     "output_type": "execute_result"
    },
    {
     "data": {
      "image/png": "[encoded data removed]",
      "text/plain": [
       "<Figure size 432x288 with 1 Axes>"
      ]
     },
     "metadata": {
      "needs_background": "light"
     },
     "output_type": "display_data"
    }
   ],
   "source": [
    "print('best params:', grid_search.best_params_)\n",
    "print('grid search score:', grid_search.score(X_test,Y_test))\n",
    "print('MSE:', metrics.mean_squared_error(Y_test, Y_predict))\n",
    "print('MAE:', metrics.mean_absolute_error(Y_test, Y_predict))\n",
    "plt.title(\"Y_predict vs Y_test\")\n",
    "plt.xlabel(\"Y_predict\")\n",
    "plt.ylabel(\"Y_test\")\n",
    "plt.scatter(Y_predict, Y_test)"
   ]
  },
  {
   "cell_type": "markdown",
   "id": "regulation-holly",
   "metadata": {},
   "source": [
    "### TODO #11: 訓練 其他的 regression 模型，與上述兩種模型比較並說明訓練結果\n",
    "- 將資料 fit 在其他的迴歸模型，可選擇 SVR、XGBRegressor 或其他...\n",
    "- 利用 TODO #10 的工具來進行參數調整\n",
    "- 將結果繪製成散佈圖 (scatter plot)，其中 X軸 為 Y_pred、Y軸為 Y_true"
   ]
  },
  {
   "cell_type": "code",
   "execution_count": 26,
   "id": "dominant-ideal",
   "metadata": {},
   "outputs": [],
   "source": [
    "# Modeling with SVR\n",
    "from sklearn.svm import SVR"
   ]
  },
  {
   "cell_type": "code",
   "execution_count": 27,
   "id": "assigned-carry",
   "metadata": {},
   "outputs": [],
   "source": [
    "param_grid = {'C': [1e0, 1e1, 1e2, 1e3], 'gamma': np.logspace(-2, 2, 5)}\n",
    "# print(np.logspace(0,6,5))\n",
    "# print(np.logspace(-2, 2, 5))\n",
    "grid_search = GridSearchCV(SVR(kernel='rbf'), param_grid, cv=3)"
   ]
  },
  {
   "cell_type": "code",
   "execution_count": 28,
   "id": "weird-humanity",
   "metadata": {},
   "outputs": [],
   "source": [
    "grid_search.fit(X_train, Y_train)\n",
    "Y_predict = grid_search.predict(X_test)"
   ]
  },
  {
   "cell_type": "code",
   "execution_count": 29,
   "id": "medium-cooperation",
   "metadata": {},
   "outputs": [
    {
     "name": "stdout",
     "output_type": "stream",
     "text": [
      "best params: {'C': 10.0, 'gamma': 0.1}\n",
      "grid search score: 0.8395258017203682\n",
      "MSE: 15.859246092559514\n",
      "MAE: 3.0302120362349583\n"
     ]
    },
    {
     "data": {
      "text/plain": [
       "Text(0, 0.5, 'Measured')"
      ]
     },
     "execution_count": 29,
     "metadata": {},
     "output_type": "execute_result"
    },
    {
     "data": {
      "image/png": "[encoded data removed]",
      "text/plain": [
       "<Figure size 432x288 with 1 Axes>"
      ]
     },
     "metadata": {
      "needs_background": "light"
     },
     "output_type": "display_data"
    }
   ],
   "source": [
    "print('best params:', grid_search.best_params_)\n",
    "print('grid search score:', grid_search.score(X_test,Y_test))\n",
    "print('MSE:', metrics.mean_squared_error(Y_test, Y_predict))\n",
    "print('MAE:', metrics.mean_absolute_error(Y_test, Y_predict))\n",
    "plt.title(\"Y_predict vs Y_test\")\n",
    "plt.scatter(Y_predict,Y_test,s=10)\n",
    "plt.plot([Y_test.min(), Y_test.max()], [Y_test.min(), Y_test.max()], 'k--', lw=2)\n",
    "plt.xlabel('Predicted')\n",
    "plt.ylabel('Measured')"
   ]
  },
  {
   "cell_type": "markdown",
   "id": "continuous-vampire",
   "metadata": {},
   "source": [
    "### (Bonus) TODO #12: 超越助教的分數，並且說明如何做到\n",
    "- R2:  0.8831229012211493\n",
    "- Test loss (MSE):  9.150760226336033"
   ]
  },
  {
   "cell_type": "markdown",
   "id": "rural-thermal",
   "metadata": {},
   "source": [
    "### Bonus\n",
    "\n",
    "在不增加features的狀態時使用SVR回歸器可以達到最高的準確率，故接下來繼續使用SVR回歸器\n",
    "\n",
    "加多幾個相關性較大的features\n",
    "- df.RM （原本）（0.7）\n",
    "- df.PTRATIO （新增）（-0.51）\n",
    "- df.TAX（新增）（-0.47）\n",
    "- df.INDUS（新增）（-0.48）\n",
    "- df.LSTAT （原本）（-0.74）\n",
    "\n",
    "利用for loop 找到最好的random state去分割訓練集\n",
    "\n",
    "random_state = 67的時候找到的訓練集訓練出的效果最好， 代表在這個random_state的訓練集最有特征性， 訓練的結果最好\n",
    "\n",
    "再利用GridSearchCV 找到最佳參數\n",
    "\n",
    "best params\n",
    "- C = 100\n",
    "- gamma = 0.01\n",
    "\n",
    "準確率可以達到: 0.91 (> 0.88)\n",
    "\n",
    "Test loss (MSE): 4.63 (< 9.15)"
   ]
  },
  {
   "cell_type": "code",
   "execution_count": 36,
   "id": "hairy-project",
   "metadata": {},
   "outputs": [
    {
     "name": "stdout",
     "output_type": "stream",
     "text": [
      "best random state: 67\n",
      "best params: {'C': 100.0, 'gamma': 0.01}\n",
      "grid search score: 0.9111300631945991\n",
      "MSE: 4.639559774630803\n",
      "MAE: 1.6625828923815231\n"
     ]
    }
   ],
   "source": [
    "# Using SVR regressor to predict\n",
    "# But include more features\n",
    "\n",
    "newX = pd.DataFrame(np.c_[df.RM, df.PTRATIO, df.TAX, df.INDUS, df.LSTAT], # Please put features inside the bracket\n",
    "                 columns = [\"RM\", \"PTRATIO\", \"TAX\", \"INDUS\", \"LSTAT\"] # Please put feature names here \n",
    "                )\n",
    "\n",
    "for i in range(0,100):\n",
    "    # split new features\n",
    "    X_train, X_test, Y_train, Y_test = train_test_split(newX, Y, test_size=0.2, random_state=i)\n",
    "\n",
    "    # Modeling\n",
    "    param_grid = {'C': [1e0, 1e1, 1e2, 1e3], 'gamma': np.logspace(-2, 2, 5)}\n",
    "    grid_search = GridSearchCV(SVR(kernel='rbf'), param_grid, cv=3)\n",
    "\n",
    "    # Training\n",
    "    grid_search.fit(X_train, Y_train)\n",
    "    Y_predict = grid_search.predict(X_test)\n",
    "\n",
    "    # Result\n",
    "    if grid_search.score(X_test,Y_test) > 0.9:\n",
    "        print('best random state:', i)\n",
    "        print('best params:', grid_search.best_params_)\n",
    "        print('grid search score:', grid_search.score(X_test,Y_test))\n",
    "        print('MSE:', metrics.mean_squared_error(Y_test, Y_predict))\n",
    "        print('MAE:', metrics.mean_absolute_error(Y_test, Y_predict))\n",
    "    \n",
    "# plt.title(\"Y_predict vs Y_test\")\n",
    "# plt.scatter(Y_predict,Y_test,s=10)\n",
    "# plt.plot([Y_test.min(), Y_test.max()], [Y_test.min(), Y_test.max()], 'k--', lw=2)\n",
    "# plt.xlabel('Predicted')\n",
    "# plt.ylabel('Measured')"
   ]
  },
  {
   "cell_type": "code",
   "execution_count": 35,
   "id": "smaller-mirror",
   "metadata": {},
   "outputs": [
    {
     "name": "stdout",
     "output_type": "stream",
     "text": [
      "best params: {'C': 100.0, 'gamma': 0.01}\n",
      "grid search score: 0.9111300631945991\n",
      "MSE: 4.639559774630803\n",
      "MAE: 1.6625828923815231\n"
     ]
    },
    {
     "data": {
      "text/plain": [
       "Text(0, 0.5, 'Measured')"
      ]
     },
     "execution_count": 35,
     "metadata": {},
     "output_type": "execute_result"
    },
    {
     "data": {
      "image/png": "[encoded data removed]",
      "text/plain": [
       "<Figure size 432x288 with 1 Axes>"
      ]
     },
     "metadata": {
      "needs_background": "light"
     },
     "output_type": "display_data"
    }
   ],
   "source": [
    "X_train, X_test, Y_train, Y_test = train_test_split(newX, Y, test_size=0.2, random_state=67)\n",
    "\n",
    "# Modeling\n",
    "param_grid = {'C': [1e0, 1e1, 1e2, 1e3], 'gamma': np.logspace(-2, 2, 5)}\n",
    "grid_search = GridSearchCV(SVR(kernel='rbf'), param_grid, cv=3)\n",
    "\n",
    "# Training\n",
    "grid_search.fit(X_train, Y_train)\n",
    "Y_predict = grid_search.predict(X_test)\n",
    "\n",
    "# Show result\n",
    "print('best params:', grid_search.best_params_)\n",
    "print('grid search score:', grid_search.score(X_test,Y_test))\n",
    "print('MSE:', metrics.mean_squared_error(Y_test, Y_predict))\n",
    "print('MAE:', metrics.mean_absolute_error(Y_test, Y_predict))\n",
    "\n",
    "# Plot fig\n",
    "plt.title(\"Y_predict vs Y_test\")\n",
    "plt.scatter(Y_predict,Y_test,s=10)\n",
    "plt.plot([Y_test.min(), Y_test.max()], [Y_test.min(), Y_test.max()], 'k--', lw=2)\n",
    "plt.xlabel('Predicted')\n",
    "plt.ylabel('Measured')"
   ]
  },
  {
   "cell_type": "code",
   "execution_count": 32,
   "id": "legendary-integration",
   "metadata": {},
   "outputs": [
    {
     "name": "stdout",
     "output_type": "stream",
     "text": [
      "total execution time: 436.3587760925293\n"
     ]
    }
   ],
   "source": [
    "# 請勿更動此區塊程式碼\n",
    "\n",
    "EXECUTION_END_TIME = time.time() # 計算執行時間\n",
    "print('total execution time: {}'.format(EXECUTION_END_TIME - EXECUTION_START_TIME))"
   ]
  }
 ],
 "metadata": {
  "kernelspec": {
   "display_name": "Python 3 (ipykernel)",
   "language": "python",
   "name": "python3"
  },
  "language_info": {
   "codemirror_mode": {
    "name": "ipython",
    "version": 3
   },
   "file_extension": ".py",
   "mimetype": "text/x-python",
   "name": "python",
   "nbconvert_exporter": "python",
   "pygments_lexer": "ipython3",
   "version": "3.8.8"
  }
 },
 "nbformat": 4,
 "nbformat_minor": 5
}
